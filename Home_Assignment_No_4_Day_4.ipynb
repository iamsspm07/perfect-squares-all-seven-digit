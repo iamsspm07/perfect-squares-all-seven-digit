{
  "nbformat": 4,
  "nbformat_minor": 0,
  "metadata": {
    "colab": {
      "name": "Home_Assignment_No-4_Day-4.ipynb",
      "provenance": [],
      "collapsed_sections": []
    },
    "kernelspec": {
      "name": "python3",
      "display_name": "Python 3"
    },
    "language_info": {
      "name": "python"
    }
  },
  "cells": [
    {
      "cell_type": "markdown",
      "source": [
        "## **Problem 01**\n",
        "\n",
        "### **Perfect squares with all digits even (using functional paradigm)**\n",
        "\n",
        "Find all 4-digit numbers that are perfect squares and have all four digits even.\n",
        "\n",
        "For example, 6400 is one such number.\n",
        "\n",
        "The expected output is ```[4624, 6084, 6400, 8464]```."
      ],
      "metadata": {
        "id": "pJaqjyX50dOa"
      }
    },
    {
      "cell_type": "code",
      "execution_count": null,
      "metadata": {
        "id": "oyswKeWv0cst"
      },
      "outputs": [],
      "source": [
        "from typing import List\n",
        "from typing import Tuple\n",
        "\n",
        "start = 1000\n",
        "stop = 10000\n",
        "\n"
      ]
    },
    {
      "cell_type": "code",
      "source": [
        "def perfect_square(num: int) -> bool:\n",
        "    return num ** 0.5 % 1 == 0\n",
        "\n",
        "def for_getting_perfect_square() ->Tuple[int]:\n",
        "    return tuple(filter(perfect_square, range(start, stop)))\n"
      ],
      "metadata": {
        "id": "RBgWftJ61RE6"
      },
      "execution_count": null,
      "outputs": []
    },
    {
      "cell_type": "code",
      "source": [
        "def even_number(num: int) -> bool:\n",
        "    return num % 2 == 0\n",
        "\n",
        "def check_all_even_digits(num: int) -> bool:\n",
        "    return all(map(lambda number: even_number(int(number)), str(num)))\n"
      ],
      "metadata": {
        "id": "KJNPx_CT3eiy"
      },
      "execution_count": null,
      "outputs": []
    },
    {
      "cell_type": "code",
      "source": [
        "def all_even_digits_perfect_square() -> List[int]:\n",
        "    square = for_getting_perfect_square()\n",
        "    return list(filter(check_all_even_digits, square))\n",
        "    "
      ],
      "metadata": {
        "id": "EzMGui2e4lRo"
      },
      "execution_count": null,
      "outputs": []
    },
    {
      "cell_type": "code",
      "source": [
        "all_even_digits_perfect_square()"
      ],
      "metadata": {
        "colab": {
          "base_uri": "https://localhost:8080/"
        },
        "id": "WSzSmErj5R9H",
        "outputId": "15d197cd-2717-493f-c8b5-2323cc86339c"
      },
      "execution_count": null,
      "outputs": [
        {
          "output_type": "execute_result",
          "data": {
            "text/plain": [
              "[4624, 6084, 6400, 8464]"
            ]
          },
          "metadata": {},
          "execution_count": 38
        }
      ]
    },
    {
      "cell_type": "code",
      "source": [
        ""
      ],
      "metadata": {
        "id": "vzbVijyT6LnH"
      },
      "execution_count": null,
      "outputs": []
    },
    {
      "cell_type": "markdown",
      "source": [
        "## **Problem 02**\n",
        "\n",
        "### **Pythagorean Triplet**\n",
        "\n",
        "If p is the perimeter of a right angle triangle with integral length sides, ```[a,b,c]```, there are exactly three solutions for ```p = 120```.\n",
        "\n",
        "```[20, 48, 52], [24, 45, 51], [30, 40, 50]```\n",
        "\n",
        "For which value of p ≤ 1000, is the number of solutions maximised?"
      ],
      "metadata": {
        "id": "5vr0zjEN0t1y"
      }
    },
    {
      "cell_type": "code",
      "source": [
        "# # Counter method\n",
        "# from collections import Counter\n",
        "\n",
        "# # list to store perimeters\n",
        "# perimeters = []\n",
        "\n",
        "# # looping to generate a,b and c\n",
        "# for a in range(1, 1000):\n",
        "#     for b in range(a, 1000):\n",
        "#         c = (a*2 + b*2)*0.5\n",
        "#         if int(c) == c and a + b + c <= 1000:\n",
        "#             perimeters.append(int(a+b+c))\n",
        "\n",
        "# # counting the instances of perimeters\n",
        "# p = Counter(perimeters)\n",
        "\n",
        "# # printing the most common perimeter\n",
        "# # or printing the most repeated perimeter\n",
        "# print(p.most_common(1)[0][0])\n"
      ],
      "metadata": {
        "colab": {
          "base_uri": "https://localhost:8080/"
        },
        "id": "d-dWmAP1I5cv",
        "outputId": "9b688774-793c-4883-d255-9b4168c3c598"
      },
      "execution_count": null,
      "outputs": [
        {
          "output_type": "stream",
          "name": "stdout",
          "text": [
            "840\n"
          ]
        }
      ]
    },
    {
      "cell_type": "code",
      "source": [
        "from typing import List\n",
        "from typing import Tuple\n",
        "\n",
        "from collections import Counter\n",
        "import math\n"
      ],
      "metadata": {
        "id": "n4KjWJcA0vIE"
      },
      "execution_count": null,
      "outputs": []
    },
    {
      "cell_type": "code",
      "source": [
        "\n",
        "def hypo_triangle_formula(sides: int) -> bool:\n",
        "    a = sides[0] ** 2\n",
        "    b = sides[1] ** 2\n",
        "    c = sides[2] ** 2\n",
        "    return a + b == c \n",
        "\n",
        "def can_hypot(num: int) -> List[Tuple[int]]:\n",
        "    return [(s1, s2, int(math.hypot(s1, s2))) for s1 in range(3, num // 2) for s2 in range(s1 + 1, num // 2)]\n",
        "    "
      ],
      "metadata": {
        "id": "c3c0yo7u7Ftt"
      },
      "execution_count": null,
      "outputs": []
    },
    {
      "cell_type": "code",
      "source": [
        "def valid_answer(num: int) -> bool:\n",
        "    return sum(num) < 1000 and hypo_triangle_formula(num)\n",
        "\n",
        "def perimeter(num: int):\n",
        "    return list(map(sum, filter(valid_answer, can_hypot(num))))\n"
      ],
      "metadata": {
        "id": "qFzj8pjP93eD"
      },
      "execution_count": null,
      "outputs": []
    },
    {
      "cell_type": "code",
      "source": [
        "def solution(num: int):\n",
        "    output = Counter(perimeter(num))\n",
        "    return output.most_common(1) [0] [0]"
      ],
      "metadata": {
        "id": "VUiylhNQ_He6"
      },
      "execution_count": null,
      "outputs": []
    },
    {
      "cell_type": "code",
      "source": [
        "print(solution(1000))"
      ],
      "metadata": {
        "colab": {
          "base_uri": "https://localhost:8080/"
        },
        "id": "qOw_DKq-_r2K",
        "outputId": "aed8ceeb-24ce-43a5-bad8-2426928c6ef8"
      },
      "execution_count": null,
      "outputs": [
        {
          "output_type": "stream",
          "name": "stdout",
          "text": [
            "840\n"
          ]
        }
      ]
    },
    {
      "cell_type": "code",
      "source": [
        ""
      ],
      "metadata": {
        "id": "F2tSKSQiHX3x"
      },
      "execution_count": null,
      "outputs": []
    }
  ]
}